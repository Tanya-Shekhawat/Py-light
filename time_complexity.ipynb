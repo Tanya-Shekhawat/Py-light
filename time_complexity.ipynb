{
 "cells": [
  {
   "cell_type": "markdown",
   "metadata": {
    "id": "kw-IGSFk1DLA"
   },
   "source": [
    "The time complexity of each code block:\n",
    "\n",
    "### Problem 1: Quicksort\n",
    "- **Time Complexity:** O(n log n) on average\n",
    "  - The partitioning step takes O(n) time, and the recursive calls are made on two halves.\n",
    "  - In the worst case, it can be O(n^2) if the pivot choice consistently creates imbalanced partitions.\n",
    "\n",
    "### Problem 2: Nested Loop Example\n",
    "- **Time Complexity:** O(rows * cols)\n",
    "  - The function iterates through each element of the matrix once.\n",
    "  - Assuming the matrix is rectangular (rows × cols).\n",
    "\n",
    "### Problem 3: Example Function\n",
    "- **Time Complexity:** O(n)\n",
    "  - The function iterates through each element in the array once.\n",
    "\n",
    "### Problem 4: Longest Increasing Subsequence\n",
    "- **Time Complexity:** O(n^2)\n",
    "  - The nested loops iterate through all pairs of elements in the array.\n",
    "\n",
    "### Problem 5: Mysterious Function\n",
    "- **Time Complexity:** O(n^2)\n",
    "  - The function has nested loops that iterate through all pairs of elements in the array.\n",
    "\n",
    "### Problem 6: Sum of Digits (Recursive)\n",
    "- **Time Complexity:** O(log10(n))\n",
    "  - The recursive function divides the number by 10 in each call.\n",
    "\n",
    "### Problem 7: Fibonacci Series (Recursive)\n",
    "- **Time Complexity:** O(2^n)\n",
    "  - The naive recursive Fibonacci function has exponential time complexity due to repeated calculations.\n",
    "\n",
    "### Problem 8: Subset Sum (Recursive)\n",
    "- **Time Complexity:** O(2^n)\n",
    "  - The recursive solution explores all possible subsets.\n",
    "\n",
    "### Problem 9: Word Break (Recursive)\n",
    "- **Time Complexity:** Exponential\n",
    "  - The recursive solution explores all possible segmentations.\n",
    "\n",
    "### Problem 10: N-Queens (Recursive)\n",
    "- **Time Complexity:** Exponential\n",
    "  - The recursive solution explores all possible queen placements.\n"
   ]
  }
 ],
 "metadata": {
  "colab": {
   "provenance": []
  },
  "kernelspec": {
   "display_name": "Python 3 (ipykernel)",
   "language": "python",
   "name": "python3"
  },
  "language_info": {
   "codemirror_mode": {
    "name": "ipython",
    "version": 3
   },
   "file_extension": ".py",
   "mimetype": "text/x-python",
   "name": "python",
   "nbconvert_exporter": "python",
   "pygments_lexer": "ipython3",
   "version": "3.12.4"
  }
 },
 "nbformat": 4,
 "nbformat_minor": 4
}
