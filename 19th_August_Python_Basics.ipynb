{
 "cells": [
  {
   "cell_type": "markdown",
   "id": "fc295672-ba7e-4d5e-9f05-c72a7d1a70bc",
   "metadata": {},
   "source": [
    "### TOPIC: Python Basics Variable"
   ]
  },
  {
   "cell_type": "markdown",
   "id": "29aaa1de-a25b-4a96-849b-709e1152364a",
   "metadata": {},
   "source": [
    "#### Q1. Declare two variables, `x` and `y`, and assign them integer values. Swap the values of these variables without using any temporary variable."
   ]
  },
  {
   "cell_type": "code",
   "execution_count": 1,
   "id": "58df47c3-6a3d-4bc5-b525-6a0675a17c5e",
   "metadata": {},
   "outputs": [],
   "source": [
    "x, y = 10, 12 # decelaring variables x and y"
   ]
  },
  {
   "cell_type": "code",
   "execution_count": 2,
   "id": "e8a7b33f-d507-4143-86d6-ee22ae34b371",
   "metadata": {},
   "outputs": [
    {
     "data": {
      "text/plain": [
       "10"
      ]
     },
     "execution_count": 2,
     "metadata": {},
     "output_type": "execute_result"
    }
   ],
   "source": [
    "x"
   ]
  },
  {
   "cell_type": "code",
   "execution_count": 3,
   "id": "fe847249-54ad-4aa5-8a99-e169383289a2",
   "metadata": {},
   "outputs": [
    {
     "data": {
      "text/plain": [
       "12"
      ]
     },
     "execution_count": 3,
     "metadata": {},
     "output_type": "execute_result"
    }
   ],
   "source": [
    "y"
   ]
  },
  {
   "cell_type": "code",
   "execution_count": 4,
   "id": "fd5959d6-82a9-4b18-af51-92b1719f692f",
   "metadata": {},
   "outputs": [],
   "source": [
    "x, y = y, x # swapping these values"
   ]
  },
  {
   "cell_type": "code",
   "execution_count": 5,
   "id": "6eea6834-cbdc-4df8-a69c-ea8faa85224e",
   "metadata": {},
   "outputs": [
    {
     "data": {
      "text/plain": [
       "12"
      ]
     },
     "execution_count": 5,
     "metadata": {},
     "output_type": "execute_result"
    }
   ],
   "source": [
    "x"
   ]
  },
  {
   "cell_type": "code",
   "execution_count": 6,
   "id": "4b465356-f496-4076-a3d7-621475342060",
   "metadata": {},
   "outputs": [
    {
     "data": {
      "text/plain": [
       "10"
      ]
     },
     "execution_count": 6,
     "metadata": {},
     "output_type": "execute_result"
    }
   ],
   "source": [
    "y"
   ]
  },
  {
   "cell_type": "markdown",
   "id": "ddd0bdde-372d-46f3-8e0e-ba6efb61c216",
   "metadata": {},
   "source": [
    "#### Q2. Create a program that calculates the area of a rectangle. Take the length and width as inputs from the user and store them in variables. Calculate and display the area.\n"
   ]
  },
  {
   "cell_type": "code",
   "execution_count": 7,
   "id": "2975e52d-c3de-4d4f-9bcf-f25d21638fdf",
   "metadata": {},
   "outputs": [
    {
     "name": "stdin",
     "output_type": "stream",
     "text": [
      "Enter length:  12\n",
      "Enter Width:  5\n"
     ]
    },
    {
     "name": "stdout",
     "output_type": "stream",
     "text": [
      "60\n"
     ]
    }
   ],
   "source": [
    "length = int(input(\"Enter length: \")) # takes input for length variable\n",
    "width = int(input(\"Enter Width: \")) # takes input for width variable\n",
    "area = length* width # calculate area \n",
    "print(area) # display area"
   ]
  },
  {
   "cell_type": "markdown",
   "id": "14aafb37-9cd7-4821-b12f-91fa093a18d3",
   "metadata": {},
   "source": [
    "#### Q3. Write a Python program that converts temperatures from Celsius to Fahrenheit. Take the temperature in Celsius as input, store it in a variable, convert it to Fahrenheit, and display the result."
   ]
  },
  {
   "cell_type": "code",
   "execution_count": 8,
   "id": "4ac50f13-46cd-4c03-8562-ea695440296c",
   "metadata": {},
   "outputs": [
    {
     "name": "stdin",
     "output_type": "stream",
     "text": [
      "Enter temprature in Celsius:  44\n"
     ]
    }
   ],
   "source": [
    "temp_in_c = float(input(\"Enter temprature in Celsius: \")) # takes input temprature in Celsius"
   ]
  },
  {
   "cell_type": "code",
   "execution_count": 9,
   "id": "60a39ccc-26ed-4dc8-a699-20f1f86bd896",
   "metadata": {},
   "outputs": [
    {
     "data": {
      "text/plain": [
       "111.2"
      ]
     },
     "execution_count": 9,
     "metadata": {},
     "output_type": "execute_result"
    }
   ],
   "source": [
    "temp_in_f = temp_in_c*9/5 + 32 # Converts from Celsius to Float\n",
    "temp_in_f # display converted temp"
   ]
  },
  {
   "cell_type": "markdown",
   "id": "89c2bd8d-ceb3-4e52-b1cc-71c0594baa26",
   "metadata": {},
   "source": [
    "### TOPIC: String Based Questions"
   ]
  },
  {
   "cell_type": "markdown",
   "id": "7d2f28cc-80a1-4208-b45c-5a5e127f2ffc",
   "metadata": {},
   "source": [
    "#### Q1. Write a Python program that takes a string as input and prints the length of the string"
   ]
  },
  {
   "cell_type": "code",
   "execution_count": 10,
   "id": "2c173ef6-2203-4a7e-86b2-8c50e9fe224b",
   "metadata": {},
   "outputs": [
    {
     "name": "stdin",
     "output_type": "stream",
     "text": [
      "Enter a string:  Waddadi hu wassup\n"
     ]
    },
    {
     "data": {
      "text/plain": [
       "17"
      ]
     },
     "execution_count": 10,
     "metadata": {},
     "output_type": "execute_result"
    }
   ],
   "source": [
    "sen = input(\"Enter a string: \")\n",
    "len(sen)"
   ]
  },
  {
   "cell_type": "markdown",
   "id": "2a835ed4-b05e-41fb-8b83-ea7af22b7fec",
   "metadata": {},
   "source": [
    "#### Q2. Create a program that takes a sentence from the user and counts the number of vowels (a, e, i, o, u) in the string.\n"
   ]
  },
  {
   "cell_type": "code",
   "execution_count": 11,
   "id": "cf71a027-d945-4782-a1cd-504f5e36bd07",
   "metadata": {},
   "outputs": [
    {
     "name": "stdin",
     "output_type": "stream",
     "text": [
      "Enter a sentence:  Waddadi hu wassup\n"
     ]
    },
    {
     "name": "stdout",
     "output_type": "stream",
     "text": [
      "{'a': 3, 'e': 0, 'i': 1, 'o': 0, 'u': 2}\n"
     ]
    }
   ],
   "source": [
    "ip_str = input(\"Enter a sentence: \") # take input from the user\n",
    "\n",
    "ip_str = ip_str.casefold() # make it suitable for caseless comparisions\n",
    "\n",
    "count = {x:sum([1 for char in ip_str if char == x]) for x in 'aeiou'} # count the vowels\n",
    "\n",
    "print(count)"
   ]
  },
  {
   "cell_type": "markdown",
   "id": "2436ba1a-79a4-4368-a7a7-f776850a026f",
   "metadata": {},
   "source": [
    "#### Q3. Given a string, reverse the order of characters using string slicing and print the reversed string."
   ]
  },
  {
   "cell_type": "code",
   "execution_count": 12,
   "id": "1c787aa9-1563-40d4-810a-f86ae8312278",
   "metadata": {},
   "outputs": [
    {
     "name": "stdin",
     "output_type": "stream",
     "text": [
      "Enter a string:  englot  camren atypical\n"
     ]
    },
    {
     "data": {
      "text/plain": [
       "'lacipyta nermac  tolgne'"
      ]
     },
     "execution_count": 12,
     "metadata": {},
     "output_type": "execute_result"
    }
   ],
   "source": [
    "wlw = input(\"Enter a string: \") #takes input string\n",
    "wlw[::-1] # reversing via slicing and steping"
   ]
  },
  {
   "cell_type": "markdown",
   "id": "ff4a79c8-6c0f-4bea-82c0-f3def2b5f0cb",
   "metadata": {},
   "source": [
    "#### Q4. Write a program that takes a string as input and checks if it is a palindrome (reads the same forwards and backwards)."
   ]
  },
  {
   "cell_type": "code",
   "execution_count": 13,
   "id": "8b61a153-8a25-4579-873d-771fcf3a8ffb",
   "metadata": {},
   "outputs": [
    {
     "name": "stdin",
     "output_type": "stream",
     "text": [
      "Enter a string:  radar\n"
     ]
    },
    {
     "name": "stdout",
     "output_type": "stream",
     "text": [
      "Yes\n"
     ]
    }
   ],
   "source": [
    "pal = input(\"Enter a string: \") # take input from the user\n",
    "def isPalindrome(pal):    # function which return reverse of a string\n",
    "\treturn pal == pal[::-1]   # storing the reverse of the string\n",
    "\n",
    "ans = isPalindrome(pal)  # Using the custom function to check and store the answer\n",
    "\n",
    "if ans:\n",
    "\tprint(\"Yes\")\n",
    "else:\n",
    "\tprint(\"No\")"
   ]
  },
  {
   "cell_type": "markdown",
   "id": "ca11e795-5a56-4ed0-80fc-19f8d759a8ba",
   "metadata": {},
   "source": [
    "#### Q5. Create a program that takes a string as input and removes all the spaces from it. Print the modified string without spaces."
   ]
  },
  {
   "cell_type": "code",
   "execution_count": 14,
   "id": "19188078-5025-4119-a3db-79d053884185",
   "metadata": {},
   "outputs": [
    {
     "name": "stdin",
     "output_type": "stream",
     "text": [
      "Enter a string:  i py nb\n"
     ]
    },
    {
     "data": {
      "text/plain": [
       "'ipynb'"
      ]
     },
     "execution_count": 14,
     "metadata": {},
     "output_type": "execute_result"
    }
   ],
   "source": [
    "space = input(\"Enter a string: \") # take input from the user\n",
    "space.replace(\" \",\"\")   # replace space in string to no space"
   ]
  }
 ],
 "metadata": {
  "kernelspec": {
   "display_name": "Python 3 (ipykernel)",
   "language": "python",
   "name": "python3"
  },
  "language_info": {
   "codemirror_mode": {
    "name": "ipython",
    "version": 3
   },
   "file_extension": ".py",
   "mimetype": "text/x-python",
   "name": "python",
   "nbconvert_exporter": "python",
   "pygments_lexer": "ipython3",
   "version": "3.10.8"
  }
 },
 "nbformat": 4,
 "nbformat_minor": 5
}
