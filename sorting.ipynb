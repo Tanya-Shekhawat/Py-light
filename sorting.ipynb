{
 "cells": [
  {
   "cell_type": "markdown",
   "metadata": {
    "id": "RZWs58-NhjsH"
   },
   "source": [
    "Problem 1: Given an array of n numbers, find the element appearing maximum times."
   ]
  },
  {
   "cell_type": "code",
   "execution_count": 7,
   "metadata": {
    "id": "MYE9cIfDgoHy"
   },
   "outputs": [],
   "source": [
    "from collections import Counter\n",
    "\n",
    "def max_occurrence(arr):\n",
    "    count = Counter(arr)\n",
    "    return max(count, key=count.get)\n"
   ]
  },
  {
   "cell_type": "markdown",
   "metadata": {
    "id": "MnGTi-AZh1iJ"
   },
   "source": [
    "Problem 2: Find the missing number in the list from 1 to n."
   ]
  },
  {
   "cell_type": "code",
   "execution_count": 8,
   "metadata": {
    "id": "XbZSt67Lh1Aj"
   },
   "outputs": [],
   "source": [
    "def find_missing(arr):\n",
    "    n = len(arr) + 1\n",
    "    total_sum = (n * (n + 1)) // 2\n",
    "    return total_sum - sum(arr)\n"
   ]
  },
  {
   "cell_type": "markdown",
   "metadata": {
    "id": "qYX7nso5h-i4"
   },
   "source": [
    "Problem 3: Find the number occurring an odd number of times.\n"
   ]
  },
  {
   "cell_type": "code",
   "execution_count": 9,
   "metadata": {
    "id": "wDaY68adiAmc"
   },
   "outputs": [],
   "source": [
    "def find_odd_occurrence(arr):\n",
    "    result = 0\n",
    "    for num in arr:\n",
    "        result ^= num\n",
    "    return result\n"
   ]
  },
  {
   "cell_type": "markdown",
   "metadata": {
    "id": "eR2hFMOziB_d"
   },
   "source": [
    "Problem 4: Find two elements in the array with a sum equal to K.\n"
   ]
  },
  {
   "cell_type": "code",
   "execution_count": 10,
   "metadata": {
    "id": "0ddAbTpYiF-Y"
   },
   "outputs": [],
   "source": [
    "def find_sum_pair(arr, K):\n",
    "    seen = set()\n",
    "    for num in arr:\n",
    "        complement = K - num\n",
    "        if complement in seen:\n",
    "            return complement, num\n",
    "        seen.add(num)\n",
    "    return None\n"
   ]
  },
  {
   "cell_type": "markdown",
   "metadata": {
    "id": "nOSLsDgQiITq"
   },
   "source": [
    "Problem 5: Find two numbers such that their sum is closest to 0.\n"
   ]
  },
  {
   "cell_type": "code",
   "execution_count": 11,
   "metadata": {
    "id": "t7rExZC-iKPW"
   },
   "outputs": [],
   "source": [
    "def closest_to_zero(arr):\n",
    "    arr.sort()\n",
    "    left, right = 0, len(arr) - 1\n",
    "    closest_sum = float('inf')\n",
    "    result = None\n",
    "    while left < right:\n",
    "        curr_sum = arr[left] + arr[right]\n",
    "        if abs(curr_sum) < abs(closest_sum):\n",
    "            closest_sum = curr_sum\n",
    "            result = arr[left], arr[right]\n",
    "        if curr_sum < 0:\n",
    "            left += 1\n",
    "        else:\n",
    "            right -= 1\n",
    "    return result\n"
   ]
  },
  {
   "cell_type": "markdown",
   "metadata": {
    "id": "hOJkoEWXiLqL"
   },
   "source": [
    "Problem 6: Find three elements such that their sum is equal to the given number."
   ]
  },
  {
   "cell_type": "code",
   "execution_count": 12,
   "metadata": {
    "id": "s1F8y18FiOnJ"
   },
   "outputs": [],
   "source": [
    "def find_three_sum(arr, target):\n",
    "    arr.sort()\n",
    "    n = len(arr)\n",
    "    for i in range(n - 2):\n",
    "        left, right = i + 1, n - 1\n",
    "        while left < right:\n",
    "            curr_sum = arr[i] + arr[left] + arr[right]\n",
    "            if curr_sum == target:\n",
    "                return arr[i], arr[left], arr[right]\n",
    "            elif curr_sum < target:\n",
    "                left += 1\n",
    "            else:\n",
    "                right -= 1\n",
    "    return None\n"
   ]
  },
  {
   "cell_type": "markdown",
   "metadata": {
    "id": "6LkV6KbAiQGR"
   },
   "source": [
    "Problem 7: Find three elements i, j, k such that i * i + j * j = k * k.\n"
   ]
  },
  {
   "cell_type": "code",
   "execution_count": 16,
   "metadata": {
    "colab": {
     "base_uri": "https://localhost:8080/"
    },
    "id": "sk9CrVi3iP1V",
    "outputId": "a97b414f-8306-4213-91f4-97fff964b2b4"
   },
   "outputs": [
    {
     "name": "stdout",
     "output_type": "stream",
     "text": [
      "3, 4, 5 form a Pythagorean triplet.\n",
      "5, 12, 13 form a Pythagorean triplet.\n",
      "6, 8, 10 form a Pythagorean triplet.\n",
      "8, 15, 17 form a Pythagorean triplet.\n",
      "9, 12, 15 form a Pythagorean triplet.\n"
     ]
    }
   ],
   "source": [
    "def find_triplets(n):\n",
    "    for i in range(1, n):\n",
    "        for j in range(i + 1, n):\n",
    "            for k in range(j + 1, n):\n",
    "                if i*i + j*j == k*k:\n",
    "                    print(f\"{i}, {j}, {k} form a Pythagorean triplet.\")\n",
    "\n",
    "# Example usage with a limit\n",
    "limit = 20\n",
    "find_triplets(limit)\n"
   ]
  },
  {
   "cell_type": "markdown",
   "metadata": {
    "id": "EXWBsrM4iUYX"
   },
   "source": [
    "Problem 8: Find the majority element (appearing more than n/2 times) in an array."
   ]
  },
  {
   "cell_type": "code",
   "execution_count": 17,
   "metadata": {
    "id": "DLP5stS4iau1"
   },
   "outputs": [],
   "source": [
    "def find_majority(arr):\n",
    "    candidate = None\n",
    "    count = 0\n",
    "    for num in arr:\n",
    "        if count == 0:\n",
    "            candidate = num\n",
    "            count = 1\n",
    "        elif num == candidate:\n",
    "            count += 1\n",
    "        else:\n",
    "            count -= 1\n",
    "    return candidate\n"
   ]
  },
  {
   "cell_type": "markdown",
   "metadata": {
    "id": "VctJUC_Qier_"
   },
   "source": [
    "Problem 9: Find the row with the maximum number of 0's in an n x n matrix.\n"
   ]
  },
  {
   "cell_type": "code",
   "execution_count": 14,
   "metadata": {
    "id": "WNhDfWtiifW5"
   },
   "outputs": [],
   "source": [
    "def max_zeros_row(matrix):\n",
    "    row, max_zeros = -1, 0\n",
    "    for i, arr in enumerate(matrix):\n",
    "        zeros_count = arr.count(0)\n",
    "        if zeros_count > max_zeros:\n",
    "            row, max_zeros = i, zeros_count\n",
    "    return row\n"
   ]
  },
  {
   "cell_type": "markdown",
   "metadata": {
    "id": "F0oHVMlEihR9"
   },
   "source": [
    "Problem 10: Sort an array of 0’s, 1’s and 2’s.\n"
   ]
  },
  {
   "cell_type": "code",
   "execution_count": 15,
   "metadata": {
    "id": "ENR5r_Y6ig9F"
   },
   "outputs": [],
   "source": [
    "def sort_012(arr):\n",
    "    low, mid, high = 0, 0, len(arr) - 1\n",
    "    while mid <= high:\n",
    "        if arr[mid] == 0:\n",
    "            arr[low], arr[mid] = arr[mid], arr[low]\n",
    "            low += 1\n",
    "            mid += 1\n",
    "        elif arr[mid] == 1:\n",
    "            mid += 1\n",
    "        else:\n",
    "            arr[mid], arr[high] = arr[high], arr[mid]\n",
    "            high -= 1\n",
    "    return arr\n"
   ]
  }
 ],
 "metadata": {
  "colab": {
   "provenance": []
  },
  "kernelspec": {
   "display_name": "Python 3 (ipykernel)",
   "language": "python",
   "name": "python3"
  },
  "language_info": {
   "codemirror_mode": {
    "name": "ipython",
    "version": 3
   },
   "file_extension": ".py",
   "mimetype": "text/x-python",
   "name": "python",
   "nbconvert_exporter": "python",
   "pygments_lexer": "ipython3",
   "version": "3.12.4"
  }
 },
 "nbformat": 4,
 "nbformat_minor": 4
}
