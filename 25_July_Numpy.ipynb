{
  "nbformat": 4,
  "nbformat_minor": 0,
  "metadata": {
    "colab": {
      "provenance": []
    },
    "kernelspec": {
      "name": "python3",
      "display_name": "Python 3"
    },
    "language_info": {
      "name": "python"
    }
  },
  "cells": [
    {
      "cell_type": "markdown",
      "source": [
        "Q1. What is a Python library? Why we use Python libraries?\n",
        "\n",
        "Sol 1.  \n",
        "- A Python library is a pre written code consisting of various functions which can be used for performing specific tasks.  \n",
        "- We use these python libraries so that we can perform required task without having to write the whole basic code\n",
        "- We can simply import the library, call the function to perform the task.\n",
        "- These libraries improve code resuability and are simple to use"
      ],
      "metadata": {
        "id": "oS8L3qNgLr4n"
      }
    },
    {
      "cell_type": "markdown",
      "source": [
        "Q2. What is the difference between Numpy array and List?\n",
        "\n",
        "Sol 2 .\n",
        "\n",
        "| NumPy Array                                  | Python List                           |\n",
        "|----------------------------------------------|---------------------------------------|\n",
        "| Numpy stands for numerical python, these numpy arrays are specifically made to perform numeric calculations more efficiently. | Lists are general-purpose data structures. |\n",
        "| These are homogeneous in nature, meaning all the elements have to have the same data type. | Lists are heterogeneous in nature, meaning it can store multiple or different data types of elements. |\n",
        "| They are more memory efficient than regular lists. | These have overheads and are less memory efficient. |\n",
        "| In numpy array we can reshape a matrix.     | Once a list is declared we cannot reshape it. |\n",
        "| We can do broadcasting in numpy array.      | We cannot do broadcasting on lists.  |\n",
        "\n",
        "\n",
        "\n",
        "\n",
        "<!-- > Numpy array\n",
        "- Numpy stands for numerical python, these numpy array are specifically made to perform numeric calculations more efficently.  \n",
        "- These are homogenous in nature, meaning all the elements have to have same data type.\n",
        "- They are more memory effecient than regular lists.\n",
        "- In numpy array we can reshape a matrix.\n",
        "- We can do broadcasting in numpy array.\n",
        "\n",
        "> Python List\n",
        "- Lists are general purpose data structure.  \n",
        "- Lists are hetrogenous in nature, meaning it can store multiple or different data types of elements.  \n",
        "- These have overheads and are less memory efficent.\n",
        "- Once a list is decalred we cannot reshape it.\n",
        "- We cannot reshape a list.\n",
        "- We cannot do broadcasting on lists.  -->"
      ],
      "metadata": {
        "id": "xSo4I8zeUo3U"
      }
    },
    {
      "cell_type": "markdown",
      "source": [
        "### Q3. Find the shape, size and dimension of the following array?\n",
        "\n",
        "[[1, 2, 3, 4]\n",
        "\n",
        "[5, 6, 7, 8],\n",
        "\n",
        "[9, 10, 11, 12]]"
      ],
      "metadata": {
        "id": "xKsNA9jeZKOJ"
      }
    },
    {
      "cell_type": "code",
      "source": [
        "import numpy as np\n",
        "x = np.array([[1, 2, 3, 4],[5, 6, 7, 8], [9, 10, 11, 12]])"
      ],
      "metadata": {
        "id": "ggtwUYunBGWY"
      },
      "execution_count": 1,
      "outputs": []
    },
    {
      "cell_type": "code",
      "source": [
        "x.shape"
      ],
      "metadata": {
        "colab": {
          "base_uri": "https://localhost:8080/"
        },
        "id": "bWw24tI9ZXZS",
        "outputId": "8ae85439-f2b5-49b3-c4a8-e247bfa51418"
      },
      "execution_count": 2,
      "outputs": [
        {
          "output_type": "execute_result",
          "data": {
            "text/plain": [
              "(3, 4)"
            ]
          },
          "metadata": {},
          "execution_count": 2
        }
      ]
    },
    {
      "cell_type": "code",
      "source": [
        "x.size"
      ],
      "metadata": {
        "colab": {
          "base_uri": "https://localhost:8080/"
        },
        "id": "FWcVVHBMZc4F",
        "outputId": "3195d45d-2754-46f8-ca8c-f6d4a7c43ddf"
      },
      "execution_count": 3,
      "outputs": [
        {
          "output_type": "execute_result",
          "data": {
            "text/plain": [
              "12"
            ]
          },
          "metadata": {},
          "execution_count": 3
        }
      ]
    },
    {
      "cell_type": "code",
      "source": [
        "x.ndim"
      ],
      "metadata": {
        "colab": {
          "base_uri": "https://localhost:8080/"
        },
        "id": "Vd-t4pwuZncp",
        "outputId": "dc8d9c5c-a6f0-40fe-9afb-67db1c2d8237"
      },
      "execution_count": 4,
      "outputs": [
        {
          "output_type": "execute_result",
          "data": {
            "text/plain": [
              "2"
            ]
          },
          "metadata": {},
          "execution_count": 4
        }
      ]
    },
    {
      "cell_type": "markdown",
      "source": [
        "### Q4. Write python code to access the first row of the following array?\n",
        "[[1, 2, 3, 4]\n",
        "\n",
        "[5, 6, 7, 8],\n",
        "\n",
        "[9, 10, 11, 12]]"
      ],
      "metadata": {
        "id": "lPVHDs7WZ3eh"
      }
    },
    {
      "cell_type": "code",
      "source": [
        "y = np.array([[1, 2, 3, 4], [5, 6, 7, 8],[9, 10, 11, 12]])\n",
        "y[0]"
      ],
      "metadata": {
        "colab": {
          "base_uri": "https://localhost:8080/"
        },
        "id": "dpa-EwszaBSM",
        "outputId": "5853b679-8790-4b4c-9cab-33340a7c5d67"
      },
      "execution_count": 5,
      "outputs": [
        {
          "output_type": "execute_result",
          "data": {
            "text/plain": [
              "array([1, 2, 3, 4])"
            ]
          },
          "metadata": {},
          "execution_count": 5
        }
      ]
    },
    {
      "cell_type": "markdown",
      "source": [
        "### Q5. How do you access the element at the third row and fourth column from the given numpy array?"
      ],
      "metadata": {
        "id": "cfG-69piyKFA"
      }
    },
    {
      "cell_type": "code",
      "source": [
        "z = np.array([[1, 2, 3, 4], [5, 6, 7, 8], [9, 10, 11, 12]])\n",
        "z[2][3]"
      ],
      "metadata": {
        "colab": {
          "base_uri": "https://localhost:8080/"
        },
        "id": "ovQUfv7IaPhz",
        "outputId": "654ecdcc-f6ed-4817-83af-0636f22a5164"
      },
      "execution_count": 6,
      "outputs": [
        {
          "output_type": "execute_result",
          "data": {
            "text/plain": [
              "12"
            ]
          },
          "metadata": {},
          "execution_count": 6
        }
      ]
    },
    {
      "cell_type": "markdown",
      "source": [
        "### Q6. Write code to extract all odd - indexed elements from the given numpy array?"
      ],
      "metadata": {
        "id": "Ul2jiYO2yaiu"
      }
    },
    {
      "cell_type": "code",
      "source": [
        "a = np.array([[1, 2, 3, 4],[5, 6, 7, 8],[9, 10, 11, 12]])\n",
        "a[:, 1::2]"
      ],
      "metadata": {
        "colab": {
          "base_uri": "https://localhost:8080/"
        },
        "id": "z639gBNJav_I",
        "outputId": "40d36222-932c-422d-8ca7-1e0a1fdf2a9f"
      },
      "execution_count": 7,
      "outputs": [
        {
          "output_type": "execute_result",
          "data": {
            "text/plain": [
              "array([[ 2,  4],\n",
              "       [ 6,  8],\n",
              "       [10, 12]])"
            ]
          },
          "metadata": {},
          "execution_count": 7
        }
      ]
    },
    {
      "cell_type": "markdown",
      "source": [
        "### Q7. How can you generate a random 3x3 matrix with values between 0 and 1?"
      ],
      "metadata": {
        "id": "7AO53rUqyhm3"
      }
    },
    {
      "cell_type": "code",
      "source": [
        "np.random.rand(3,3)"
      ],
      "metadata": {
        "colab": {
          "base_uri": "https://localhost:8080/"
        },
        "id": "Oqlp1RQXmlI0",
        "outputId": "1fc2e418-1556-472a-b46c-491bf4e94d46"
      },
      "execution_count": 8,
      "outputs": [
        {
          "output_type": "execute_result",
          "data": {
            "text/plain": [
              "array([[0.70389719, 0.44612929, 0.05557972],\n",
              "       [0.1538992 , 0.0312991 , 0.83455243],\n",
              "       [0.33492804, 0.28181345, 0.10689918]])"
            ]
          },
          "metadata": {},
          "execution_count": 8
        }
      ]
    },
    {
      "cell_type": "markdown",
      "source": [
        "### Q8. # Describe the difference between np.random.rand and np.random.randn?"
      ],
      "metadata": {
        "id": "ZV9mln73yl1W"
      }
    },
    {
      "cell_type": "code",
      "source": [
        "np.random.rand(3,3)\n",
        "# It generatess random numbers between 0 (inclusive) and 1 (exclusive)."
      ],
      "metadata": {
        "colab": {
          "base_uri": "https://localhost:8080/"
        },
        "id": "uuhv_75Sm6qa",
        "outputId": "3d648434-b492-434e-c3cf-4d3e70b079e0"
      },
      "execution_count": 9,
      "outputs": [
        {
          "output_type": "execute_result",
          "data": {
            "text/plain": [
              "array([[0.14761878, 0.76329884, 0.11311003],\n",
              "       [0.9701767 , 0.49625688, 0.46375717],\n",
              "       [0.59207736, 0.91564409, 0.679618  ]])"
            ]
          },
          "metadata": {},
          "execution_count": 9
        }
      ]
    },
    {
      "cell_type": "code",
      "source": [
        "np.random.randn(3,3)\n",
        "# It generates random numbers that have a normal distribution, a mean of 0 and a standard deviation of 1."
      ],
      "metadata": {
        "colab": {
          "base_uri": "https://localhost:8080/"
        },
        "id": "-e3ba1j-oLQh",
        "outputId": "d0e77beb-3889-4139-d02b-a6ce1510c6ef"
      },
      "execution_count": 10,
      "outputs": [
        {
          "output_type": "execute_result",
          "data": {
            "text/plain": [
              "array([[-0.22429336, -2.03465565, -0.60653025],\n",
              "       [ 0.53195211, -1.43189053, -0.57014095],\n",
              "       [-0.50591333, -2.00646073,  0.09094205]])"
            ]
          },
          "metadata": {},
          "execution_count": 10
        }
      ]
    },
    {
      "cell_type": "markdown",
      "source": [
        "### Q9. Write code to increase the dimension of the following array?"
      ],
      "metadata": {
        "id": "gsLRaCv_yy-z"
      }
    },
    {
      "cell_type": "code",
      "source": [
        "b = np.array([[1, 2, 3, 4], [5, 6, 7, 8], [9, 10, 11, 12]])"
      ],
      "metadata": {
        "id": "ZRAGeAcHo4qF"
      },
      "execution_count": 11,
      "outputs": []
    },
    {
      "cell_type": "code",
      "source": [
        "np.expand_dims(b, axis = 0)"
      ],
      "metadata": {
        "colab": {
          "base_uri": "https://localhost:8080/"
        },
        "id": "ulufYok-o-cj",
        "outputId": "7153e357-a289-4b03-fa4c-ab052518544b"
      },
      "execution_count": 12,
      "outputs": [
        {
          "output_type": "execute_result",
          "data": {
            "text/plain": [
              "array([[[ 1,  2,  3,  4],\n",
              "        [ 5,  6,  7,  8],\n",
              "        [ 9, 10, 11, 12]]])"
            ]
          },
          "metadata": {},
          "execution_count": 12
        }
      ]
    },
    {
      "cell_type": "markdown",
      "source": [
        "### Q10. How to transpose the following array in NumPy?"
      ],
      "metadata": {
        "id": "vP9YVl2Gy6bi"
      }
    },
    {
      "cell_type": "code",
      "source": [
        "c = np.array([[1, 2, 3, 4], [5, 6, 7, 8], [9, 10, 11, 12]])"
      ],
      "metadata": {
        "id": "7i0I2wSkpHPT"
      },
      "execution_count": 13,
      "outputs": []
    },
    {
      "cell_type": "code",
      "source": [
        "c.T"
      ],
      "metadata": {
        "colab": {
          "base_uri": "https://localhost:8080/"
        },
        "id": "j4j1POArpu-1",
        "outputId": "ee31067a-ca1c-4026-aeee-b723d7f815c5"
      },
      "execution_count": 14,
      "outputs": [
        {
          "output_type": "execute_result",
          "data": {
            "text/plain": [
              "array([[ 1,  5,  9],\n",
              "       [ 2,  6, 10],\n",
              "       [ 3,  7, 11],\n",
              "       [ 4,  8, 12]])"
            ]
          },
          "metadata": {},
          "execution_count": 14
        }
      ]
    },
    {
      "cell_type": "markdown",
      "source": [
        "### Q11. Consider the following matrix:\n",
        "#### Matrix A2 [[1, 2, 3, 4] [5, 6, 7, 8],[9, 10, 11, 12]]\n",
        "#### Matrix B2 [[1, 2, 3, 4] [5, 6, 7, 8],[9, 10, 11, 12]]\n",
        "\n",
        "Perform the following operation using Python\n",
        "\n",
        "- Index wise  multiplication\n",
        "- Matix multiplication\n",
        "- Add both the matrics\n",
        "- Subtact matix B from A\n",
        "- Diide Matix B by A"
      ],
      "metadata": {
        "id": "25f0Na5uy-Jj"
      }
    },
    {
      "cell_type": "code",
      "source": [
        "a2 = np.array([[1, 2, 3, 4], [5, 6, 7, 8],[9, 10, 11, 12]])\n",
        "b2 = np.array([[1, 2, 3, 4], [5, 6, 7, 8],[9, 10, 11, 12]])"
      ],
      "metadata": {
        "id": "s2ioxjCmp9q0"
      },
      "execution_count": 15,
      "outputs": []
    },
    {
      "cell_type": "code",
      "source": [
        "a2 * b2\n",
        "# Index wise multiplication"
      ],
      "metadata": {
        "colab": {
          "base_uri": "https://localhost:8080/"
        },
        "id": "8aq4Y4pbqmF5",
        "outputId": "6617793a-5b3e-42e0-d5d1-2955605dade1"
      },
      "execution_count": 16,
      "outputs": [
        {
          "output_type": "execute_result",
          "data": {
            "text/plain": [
              "array([[  1,   4,   9,  16],\n",
              "       [ 25,  36,  49,  64],\n",
              "       [ 81, 100, 121, 144]])"
            ]
          },
          "metadata": {},
          "execution_count": 16
        }
      ]
    },
    {
      "cell_type": "code",
      "source": [
        "a2 @ b2.T\n",
        "# Matix multiplication"
      ],
      "metadata": {
        "colab": {
          "base_uri": "https://localhost:8080/"
        },
        "id": "vGDnrQByshFu",
        "outputId": "e6ff95c7-9f79-4cfe-eca8-898b56cadebf"
      },
      "execution_count": 17,
      "outputs": [
        {
          "output_type": "execute_result",
          "data": {
            "text/plain": [
              "array([[ 30,  70, 110],\n",
              "       [ 70, 174, 278],\n",
              "       [110, 278, 446]])"
            ]
          },
          "metadata": {},
          "execution_count": 17
        }
      ]
    },
    {
      "cell_type": "code",
      "source": [
        "a2 + b2\n",
        "# Add both the matrics"
      ],
      "metadata": {
        "colab": {
          "base_uri": "https://localhost:8080/"
        },
        "id": "zQfOIU7ksi_5",
        "outputId": "ca404cc6-b9bb-47e2-8799-4766dd2b933b"
      },
      "execution_count": 18,
      "outputs": [
        {
          "output_type": "execute_result",
          "data": {
            "text/plain": [
              "array([[ 2,  4,  6,  8],\n",
              "       [10, 12, 14, 16],\n",
              "       [18, 20, 22, 24]])"
            ]
          },
          "metadata": {},
          "execution_count": 18
        }
      ]
    },
    {
      "cell_type": "code",
      "source": [
        "a2 - b2\n",
        "# Subtact matix B from A"
      ],
      "metadata": {
        "colab": {
          "base_uri": "https://localhost:8080/"
        },
        "id": "KEjCnN30tCHT",
        "outputId": "eb3a8400-b2d1-4d8c-e91e-b3935735a16d"
      },
      "execution_count": 19,
      "outputs": [
        {
          "output_type": "execute_result",
          "data": {
            "text/plain": [
              "array([[0, 0, 0, 0],\n",
              "       [0, 0, 0, 0],\n",
              "       [0, 0, 0, 0]])"
            ]
          },
          "metadata": {},
          "execution_count": 19
        }
      ]
    },
    {
      "cell_type": "code",
      "source": [
        "b2 / a2\n",
        "# Diide Matix B by A"
      ],
      "metadata": {
        "colab": {
          "base_uri": "https://localhost:8080/"
        },
        "id": "wZRcI4kYtMcV",
        "outputId": "fce8524f-e035-42f0-96e3-fa145dfdb0a1"
      },
      "execution_count": 20,
      "outputs": [
        {
          "output_type": "execute_result",
          "data": {
            "text/plain": [
              "array([[1., 1., 1., 1.],\n",
              "       [1., 1., 1., 1.],\n",
              "       [1., 1., 1., 1.]])"
            ]
          },
          "metadata": {},
          "execution_count": 20
        }
      ]
    },
    {
      "cell_type": "code",
      "source": [
        "# byteswap() function\n",
        "c = np.array([[1, 2, 3, 4], [5, 6, 7, 8],[9, 10, 11, 12]])"
      ],
      "metadata": {
        "id": "3QFsEf5vtPqd"
      },
      "execution_count": 21,
      "outputs": []
    },
    {
      "cell_type": "markdown",
      "source": [
        "### Q12. Which function in Numpy can be used to swap the byte order of an array?"
      ],
      "metadata": {
        "id": "L6UYU-Aqzx51"
      }
    },
    {
      "cell_type": "code",
      "source": [
        "c.byteswap()\n",
        "# we can use byteswap() function"
      ],
      "metadata": {
        "colab": {
          "base_uri": "https://localhost:8080/"
        },
        "id": "aukZpDNgt3qs",
        "outputId": "e2377280-21aa-4fa4-f368-25676dab2600"
      },
      "execution_count": 22,
      "outputs": [
        {
          "output_type": "execute_result",
          "data": {
            "text/plain": [
              "array([[ 72057594037927936, 144115188075855872, 216172782113783808,\n",
              "        288230376151711744],\n",
              "       [360287970189639680, 432345564227567616, 504403158265495552,\n",
              "        576460752303423488],\n",
              "       [648518346341351424, 720575940379279360, 792633534417207296,\n",
              "        864691128455135232]])"
            ]
          },
          "metadata": {},
          "execution_count": 22
        }
      ]
    },
    {
      "cell_type": "markdown",
      "source": [
        "### Q13. What is the significance of the np.linalg.inv function?"
      ],
      "metadata": {
        "id": "KJwJibj00TZ7"
      }
    },
    {
      "cell_type": "code",
      "source": [
        "d = np.array([[2, 3], [4, 5]])\n",
        "np.linalg.inv(d)\n",
        "# calculates the inverse of a given array"
      ],
      "metadata": {
        "colab": {
          "base_uri": "https://localhost:8080/"
        },
        "id": "PYEFmLs7uAzQ",
        "outputId": "fa1bfa4e-a57a-4be3-8000-d867c4bc0055"
      },
      "execution_count": 23,
      "outputs": [
        {
          "output_type": "execute_result",
          "data": {
            "text/plain": [
              "array([[-2.5,  1.5],\n",
              "       [ 2. , -1. ]])"
            ]
          },
          "metadata": {},
          "execution_count": 23
        }
      ]
    },
    {
      "cell_type": "markdown",
      "source": [
        "### Q14. What does the np.reshape function do, and how is it used?"
      ],
      "metadata": {
        "id": "E5golzWJ0Wy_"
      }
    },
    {
      "cell_type": "code",
      "source": [
        "np.reshape(d, (1,4))\n",
        "# it reshapes the given array into desired diemnsion with the same elements"
      ],
      "metadata": {
        "colab": {
          "base_uri": "https://localhost:8080/"
        },
        "id": "vWKP2l8guz0i",
        "outputId": "8b3564f8-f816-4045-d887-4a4ff686c97a"
      },
      "execution_count": 24,
      "outputs": [
        {
          "output_type": "execute_result",
          "data": {
            "text/plain": [
              "array([[2, 3, 4, 5]])"
            ]
          },
          "metadata": {},
          "execution_count": 24
        }
      ]
    },
    {
      "cell_type": "markdown",
      "source": [
        "### Q15. What is broadcasting in Numpy?"
      ],
      "metadata": {
        "id": "2oJ_sEJN0kCR"
      }
    },
    {
      "cell_type": "code",
      "source": [
        "# doing opearation to the whole array\n",
        "# to perform element-wise operations on arrays of different shapes\n",
        "\n",
        "e = np.array([[1, 2, 3], [4, 5, 6]])\n",
        "f = np.array([10, 20, 30])\n",
        "\n",
        "e + f\n"
      ],
      "metadata": {
        "colab": {
          "base_uri": "https://localhost:8080/"
        },
        "id": "vQBVUlU8viZQ",
        "outputId": "c2bbd7ec-6e87-47eb-fc83-e5a036adac96"
      },
      "execution_count": 25,
      "outputs": [
        {
          "output_type": "execute_result",
          "data": {
            "text/plain": [
              "array([[11, 22, 33],\n",
              "       [14, 25, 36]])"
            ]
          },
          "metadata": {},
          "execution_count": 25
        }
      ]
    }
  ]
}