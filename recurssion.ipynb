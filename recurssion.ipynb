{
 "cells": [
  {
   "cell_type": "markdown",
   "metadata": {
    "id": "ryEv3XCot_F-"
   },
   "source": [
    "Q1: Tower of Hanoi Algorithm\n",
    "\n",
    "The Tower of Hanoi is a classic problem involving three rods and a number of disks of different sizes. The goal is to move all the disks from one rod to another while following these rules:\n",
    "\n",
    "Only one disk can be moved at a time.\n",
    "Each move involves taking the top disk from one stack and placing it onto another stack.\n",
    "No disk can be placed on top of a smaller disk."
   ]
  },
  {
   "cell_type": "code",
   "execution_count": 1,
   "metadata": {
    "colab": {
     "base_uri": "https://localhost:8080/"
    },
    "id": "A-mFKTVwJapt",
    "outputId": "0282aaab-4365-4f24-e18c-a8935a9919fd"
   },
   "outputs": [
    {
     "name": "stdout",
     "output_type": "stream",
     "text": [
      "Move disk 1 from rod A to rod C\n",
      "Move disk 2 from rod A to rod B\n",
      "Move disk 1 from rod C to rod B\n",
      "Move disk 3 from rod A to rod C\n",
      "Move disk 1 from rod B to rod A\n",
      "Move disk 2 from rod B to rod C\n",
      "Move disk 1 from rod A to rod C\n"
     ]
    }
   ],
   "source": [
    "def tower_of_hanoi(n, source, target, auxiliary):\n",
    "    if n == 1:\n",
    "        print(f\"Move disk 1 from rod {source} to rod {target}\")\n",
    "        return\n",
    "    tower_of_hanoi(n - 1, source, auxiliary, target)\n",
    "    print(f\"Move disk {n} from rod {source} to rod {target}\")\n",
    "    tower_of_hanoi(n - 1, auxiliary, target, source)\n",
    "\n",
    "# Calling the function with 3 disks, source 'A', target 'C', and auxiliary 'B'\n",
    "tower_of_hanoi(3, 'A', 'C', 'B')\n"
   ]
  },
  {
   "cell_type": "markdown",
   "metadata": {
    "id": "5IVkJDQOxI_l"
   },
   "source": [
    "Q2: Minimum Operations to Convert Words\n"
   ]
  },
  {
   "cell_type": "code",
   "execution_count": 2,
   "metadata": {
    "colab": {
     "base_uri": "https://localhost:8080/"
    },
    "id": "61KTmq9yxIsn",
    "outputId": "6d31e57e-657e-447c-8f89-cc7ebb347b7b"
   },
   "outputs": [
    {
     "name": "stdout",
     "output_type": "stream",
     "text": [
      "3\n",
      "5\n"
     ]
    }
   ],
   "source": [
    "def min_operations(word1, word2):\n",
    "    m, n = len(word1), len(word2)\n",
    "    dp = [[0] * (n + 1) for _ in range(m + 1)]\n",
    "    for i in range(m + 1):\n",
    "        for j in range(n + 1):\n",
    "            if i == 0:\n",
    "                dp[i][j] = j\n",
    "            elif j == 0:\n",
    "                dp[i][j] = i\n",
    "            elif word1[i - 1] == word2[j - 1]:\n",
    "                dp[i][j] = dp[i - 1][j - 1]\n",
    "            else:\n",
    "                dp[i][j] = 1 + min(dp[i][j - 1], dp[i - 1][j], dp[i - 1][j - 1])\n",
    "    return dp[m][n]\n",
    "\n",
    "# Test cases\n",
    "print(min_operations(\"horse\", \"ros\"))  # Output: 3\n",
    "print(min_operations(\"intention\", \"execution\"))  # Output: 5\n"
   ]
  },
  {
   "cell_type": "markdown",
   "metadata": {
    "id": "ZcpvvrhSxNiR"
   },
   "source": [
    "Q3: Maximum Value in Array\n"
   ]
  },
  {
   "cell_type": "code",
   "execution_count": 3,
   "metadata": {
    "colab": {
     "base_uri": "https://localhost:8080/"
    },
    "id": "ss1GhbcIxQd1",
    "outputId": "342fe4ed-b67c-43a0-bff7-45640e0c1ad6"
   },
   "outputs": [
    {
     "name": "stdout",
     "output_type": "stream",
     "text": [
      "22\n"
     ]
    }
   ],
   "source": [
    "arr = [13, 1, -3, 22, 5]\n",
    "max_value = max(arr)\n",
    "print(max_value)  # Output: 22\n"
   ]
  },
  {
   "cell_type": "markdown",
   "metadata": {
    "id": "DCIDyHQaxUbG"
   },
   "source": [
    "Q4: Sum of Array Values\n"
   ]
  },
  {
   "cell_type": "code",
   "execution_count": 4,
   "metadata": {
    "colab": {
     "base_uri": "https://localhost:8080/"
    },
    "id": "_cXtMrC1xUNe",
    "outputId": "c805514e-8220-4640-c50d-672e9848226b"
   },
   "outputs": [
    {
     "name": "stdout",
     "output_type": "stream",
     "text": [
      "120\n"
     ]
    }
   ],
   "source": [
    "arr = [92, 23, 15, -20, 10]\n",
    "sum_values = sum(arr)\n",
    "print(sum_values)  # Output: 120\n"
   ]
  },
  {
   "cell_type": "markdown",
   "metadata": {
    "id": "CrdCn-2MxYJT"
   },
   "source": [
    "Q5: Armstrong Number Check\n"
   ]
  },
  {
   "cell_type": "code",
   "execution_count": 6,
   "metadata": {
    "colab": {
     "base_uri": "https://localhost:8080/"
    },
    "id": "KwLWWIXXxZ1G",
    "outputId": "5385d221-ce56-440d-e126-e77925bf4679"
   },
   "outputs": [
    {
     "name": "stdout",
     "output_type": "stream",
     "text": [
      "True\n",
      "False\n"
     ]
    }
   ],
   "source": [
    "def is_armstrong_number(n):\n",
    "    num_str = str(n)\n",
    "    num_digits = len(num_str)\n",
    "    armstrong_sum = sum(int(digit) ** num_digits for digit in num_str)\n",
    "    return armstrong_sum == n\n",
    "\n",
    "# Test cases\n",
    "print(is_armstrong_number(153))  # Output: True\n",
    "print(is_armstrong_number(134))  # Output: False\n"
   ]
  }
 ],
 "metadata": {
  "colab": {
   "provenance": []
  },
  "kernelspec": {
   "display_name": "Python 3 (ipykernel)",
   "language": "python",
   "name": "python3"
  },
  "language_info": {
   "codemirror_mode": {
    "name": "ipython",
    "version": 3
   },
   "file_extension": ".py",
   "mimetype": "text/x-python",
   "name": "python",
   "nbconvert_exporter": "python",
   "pygments_lexer": "ipython3",
   "version": "3.12.4"
  }
 },
 "nbformat": 4,
 "nbformat_minor": 4
}
