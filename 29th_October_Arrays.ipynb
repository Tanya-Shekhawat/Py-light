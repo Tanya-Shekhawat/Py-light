{
 "cells": [
  {
   "cell_type": "markdown",
   "metadata": {},
   "source": [
    "##### Q1. Given an array, check if it contains any duplicates or not. arr = [1, 2, 4, 2, 5, 9]"
   ]
  },
  {
   "cell_type": "code",
   "execution_count": 1,
   "metadata": {},
   "outputs": [
    {
     "data": {
      "text/plain": [
       "'True'"
      ]
     },
     "execution_count": 1,
     "metadata": {},
     "output_type": "execute_result"
    }
   ],
   "source": [
    "class duplicate :\n",
    "    def check_duplicate(self, arr) :\n",
    "        # using set() as set does not store duplicate values \n",
    "        x = set(arr)\n",
    "        # compare length of list before and after duplicate removal \n",
    "        if len(list(x)) != len(arr) :\n",
    "            return \"True\"\n",
    "        else :\n",
    "            return \"False\"\n",
    "        \n",
    "# Driver Code\n",
    "arr = [1, 2, 4, 2, 5, 9]\n",
    "check = duplicate()\n",
    "check.check_duplicate(arr)"
   ]
  },
  {
   "cell_type": "markdown",
   "metadata": {},
   "source": [
    "##### Q2. Given an array and an integer k, rotate the array to the right by k steps. arr = [1, 2, 3, 4, 5, 6, 7] k = 3"
   ]
  },
  {
   "cell_type": "code",
   "execution_count": 2,
   "metadata": {},
   "outputs": [
    {
     "data": {
      "text/plain": [
       "[5, 6, 7, 1, 2, 3, 4]"
      ]
     },
     "execution_count": 2,
     "metadata": {},
     "output_type": "execute_result"
    }
   ],
   "source": [
    "class rotate : \n",
    "    def rotate_arr(self,arr,k) :\n",
    "        arr = arr[::-1] # reverse the whole array\n",
    "        arr[:k] = arr[:k][::-1] # reverse the elements before k \n",
    "        arr[k:] = arr[k:][::-1] # reverse element from k to end \n",
    "        return arr\n",
    "\n",
    "# Driver code\n",
    "arr = [1,2,3,4,5,6,7]\n",
    "k = 3 \n",
    "result = rotate() \n",
    "result.rotate_arr(arr,k) "
   ]
  },
  {
   "cell_type": "markdown",
   "metadata": {},
   "source": [
    "##### Q3. Reverse the given array in-place, means without using any extra data structure. arr = [2, 4, 5, 7, 9, 12]"
   ]
  },
  {
   "cell_type": "code",
   "execution_count": 3,
   "metadata": {},
   "outputs": [
    {
     "data": {
      "text/plain": [
       "[12, 9, 7, 5, 4, 2]"
      ]
     },
     "execution_count": 3,
     "metadata": {},
     "output_type": "execute_result"
    }
   ],
   "source": [
    "class reverse :\n",
    "    def rev(self, arr) :\n",
    "        arr = arr[::-1] # reversing array using indexing and steping \n",
    "        return arr\n",
    "\n",
    "# Driver Code\n",
    "arr = [2,4,5,7,9,12]\n",
    "do_reverse = reverse()\n",
    "do_reverse.rev(arr)"
   ]
  },
  {
   "cell_type": "markdown",
   "metadata": {},
   "source": [
    "##### Q4. Given an array of integers, find the maximum element in an array arr = [10, 5, 20, 8, 15] Output = 20"
   ]
  },
  {
   "cell_type": "code",
   "execution_count": 4,
   "metadata": {},
   "outputs": [
    {
     "data": {
      "text/plain": [
       "20"
      ]
     },
     "execution_count": 4,
     "metadata": {},
     "output_type": "execute_result"
    }
   ],
   "source": [
    "class maximum :\n",
    "    def max (self, arr) :\n",
    "        max = arr[0] # take 1st element as maximum\n",
    "        for i in range(1,len(arr)) : # running loop for elements at index 1 to end \n",
    "            if arr[i] > max : # comparing the element with max \n",
    "                max = arr[i]\n",
    "        return max \n",
    "\n",
    "# Driver code\n",
    "arr = [10,5,20,8,15]\n",
    "max_num = maximum()\n",
    "max_num.max(arr)"
   ]
  },
  {
   "cell_type": "markdown",
   "metadata": {},
   "source": [
    "##### Q5. Given a sorted array, remove the duplicate element without using any extra data structure. arr = [1, 1, 2, 2, 2, 3, 3, 4, 4, 4, 5, 5] Output = [1, 2, 3, 4, 5]"
   ]
  },
  {
   "cell_type": "code",
   "execution_count": 5,
   "metadata": {},
   "outputs": [
    {
     "data": {
      "text/plain": [
       "[1, 2, 3, 4, 5]"
      ]
     },
     "execution_count": 5,
     "metadata": {},
     "output_type": "execute_result"
    }
   ],
   "source": [
    "class duplicate :\n",
    "    def remove_duplicate(self, arr) :\n",
    "        arr = set(arr) # using set() as set does not store duplicate values\n",
    "        return list(arr)\n",
    "    \n",
    "# Driver code\n",
    "arr = [1,1,2,2,2,3,3,4,4,4,5,5]\n",
    "dupli = duplicate()\n",
    "dupli.remove_duplicate(arr)"
   ]
  }
 ],
 "metadata": {
  "kernelspec": {
   "display_name": "Python 3 (ipykernel)",
   "language": "python",
   "name": "python3"
  },
  "language_info": {
   "codemirror_mode": {
    "name": "ipython",
    "version": 3
   },
   "file_extension": ".py",
   "mimetype": "text/x-python",
   "name": "python",
   "nbconvert_exporter": "python",
   "pygments_lexer": "ipython3",
   "version": "3.11.5"
  }
 },
 "nbformat": 4,
 "nbformat_minor": 2
}
